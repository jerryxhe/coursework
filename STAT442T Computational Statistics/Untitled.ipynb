{
 "cells": [
  {
   "cell_type": "markdown",
   "metadata": {},
   "source": [
    "Gradient boosting (Friedman 2001, Hastie et al. 2001) is often used with loss functions other than squared error; typical candidates are the binomial log-likelihood or the \"ADAboost\" loss for binary classification problems. Our linear-model simplification is also applicable here. As a concrete example, consider the linear logistic regression model in the expanded space"
   ]
  },
  {
   "cell_type": "markdown",
   "metadata": {},
   "source": [
    "$$ \\log \\frac{Pr(y=1 \\vert x)}{Pr(y=0 \\vert x)} = x^T\\beta $$"
   ]
  },
  {
   "cell_type": "markdown",
   "metadata": {},
   "source": [
    "$$ \\mathcal{L}(\\beta) = - \\sum_i^n \\big[ y_i \\log p_i + (1- y_i) \\log (1-p_i) \\big] $$"
   ]
  },
  {
   "cell_type": "markdown",
   "metadata": {},
   "source": [
    "where $$ p_i = \\frac{e^{x_i^T\\beta} }{1+e^{x_i^T\\beta} } $$"
   ]
  }
 ],
 "metadata": {
  "kernelspec": {
   "display_name": "Python 3",
   "language": "python",
   "name": "python3"
  },
  "language_info": {
   "codemirror_mode": {
    "name": "ipython",
    "version": 3
   },
   "file_extension": ".py",
   "mimetype": "text/x-python",
   "name": "python",
   "nbconvert_exporter": "python",
   "pygments_lexer": "ipython3",
   "version": "3.6.0"
  }
 },
 "nbformat": 4,
 "nbformat_minor": 2
}
