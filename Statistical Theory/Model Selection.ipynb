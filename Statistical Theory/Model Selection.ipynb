{
 "cells": [
  {
   "cell_type": "markdown",
   "metadata": {},
   "source": [
    "### 3.3 Model selection\n",
    "\n",
    "Although the ridge regression estimator may reduce the mean squared\n",
    "error of $\\hat{\\beta}$ , it does not directly help us to choose an\n",
    "appropriate model. We may potentially want to consider many potential\n",
    "covariates. But there are many reasons for prefering a smaller final\n",
    "model:\n",
    "\n",
    "1) prediction accuracy may well be improved\n",
    "\n",
    "2) It is much easier to interpret a smaller model \n",
    "\n",
    "3) In many applications, there is an underlying belief that the 'true\n",
    "mode' is **sparse.**\n",
    "\n",
    "We now review some traditional model strategy\n",
    "\n",
    "1) *Best subset regression: *For each $k\\in\\{0,1,..p\\}$,\n",
    "let $\\hat{\\beta}_{\\left[k\\right]}$ denote the value of $\\beta$ with\n",
    "$k$ nonzero entries that minimizes\n",
    "$$\n",
    "RSS(\\beta)=\\sum_{i=1}^{n}\\left(Y_{i}-\\beta_{0}-\\sum_{j=1}^{p}x_{ij}\\beta_{j}\\right)^{2}\n",
    "$$\n",
    "\n",
    "\n",
    "For instance, the **Akaike information criterion** (Akaike,\n",
    "1974) chooses k to minimize $RSS(\\hat{\\beta}_{\\left[k\\right]})+2k$,\n",
    "while the **Bayesian information criterion** (Schwartz, 1978)\n",
    "uses $RSS(\\hat{\\beta}_{\\left[k\\right]})+k\\log n$.\n",
    "\n",
    "2) *Forward stepwise selection: *Start with just the intercept\n",
    "term and at each subsequent stage add the variable that gives the\n",
    "largest reduction in residual sum of squares. This produces a sequence\n",
    "$\\hat{\\beta}_{0}^{F}$, $\\hat{\\beta}_{1}^{F}$, ..., and we stop when\n",
    "\n",
    "$$\n",
    "\\frac{RSS\\left(\\hat{\\beta}_{k}^{F}\\right)-RSS\\left(\\hat{\\beta}_{k+1}^{F}\\right)}{\\frac{1}{n-k-2}RSS\\left(\\hat{\\beta}_{k+1}^{F}\\right)}\\leq F_{1,n-k-2}(\\alpha)\n",
    "$$\n",
    "\n",
    "where $F_{1,n-k-2}(\\alpha)$ is the upper $\\alpha$ point of the $F_{1,n-k-z}$\n",
    "distribution (how to choose $\\alpha$ to account for the fact that\n",
    "we are doing multiple testing).\n",
    "\n",
    "3) *Backward stepwise selection: * (p<n) start with the full\n",
    "model, and at each subsequent stage delete the variable that results\n",
    "in the RSS. Use a F-test as above to determine when to stop.\n"
   ]
  }
 ],
 "metadata": {
  "kernelspec": {
   "display_name": "Python 2",
   "language": "python",
   "name": "python2"
  },
  "language_info": {
   "codemirror_mode": {
    "name": "ipython",
    "version": 2
   },
   "file_extension": ".py",
   "mimetype": "text/x-python",
   "name": "python",
   "nbconvert_exporter": "python",
   "pygments_lexer": "ipython2",
   "version": "2.7.13"
  }
 },
 "nbformat": 4,
 "nbformat_minor": 0
}
