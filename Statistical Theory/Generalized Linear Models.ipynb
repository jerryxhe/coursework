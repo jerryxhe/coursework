{
 "cells": [
  {
   "cell_type": "markdown",
   "metadata": {},
   "source": [
    "### 2.3 Generalized linear models"
   ]
  },
  {
   "cell_type": "markdown",
   "metadata": {},
   "source": [
    "Consider a family of densities with respect to a $\\sigma$- finite\n",
    "measure of the form\n",
    "\n",
    "$$\n",
    "f(y;\\mu,\\sigma^{2})=a(\\sigma^{2},\\,y)\\exp\\left\\{ \\frac{1}{\\sigma^{2}}\\left\\{ \\theta(\\mu)y-k(\\theta(\\mu))\\right\\} \\right\\}\n",
    "$$\n",
    "\n",
    "$y\\in E,\\subseteq\\mathbb{R}$ , $\\mu\\in M\\subseteq\\mathbb{R}$, $\\sigma^{2}\\in\\Phi\\subseteq\\left(0,\\infty\\right)$\n",
    "\n",
    "where $a(\\sigma^{2},y)$ is a known, positive function. Such a family\n",
    "is called an *exponential dispersion family*, and $\\sigma^{2}$\n",
    "is called the *dispersion parameter*. \n",
    "\n",
    "If Y is of exponential dispersion family form, then its cumulant generating\n",
    "function (i.e logarithm of the mgf)\n",
    "$$\n",
    "K(t;\\mu,\\sigma^{2})=\\frac{1}{\\sigma^{2}}\\left\\{ K\\left(\\sigma^{2}t+\\theta(\\mu)\\right)-K(\\theta(\\mu))\\right\\} \n",
    "$$"
   ]
  },
  {
   "cell_type": "markdown",
   "metadata": {},
   "source": [
    "so \n",
    "\n",
    "$$\\mathbb{E}_{\\mu,\\sigma^{2}}\\left(y\\right)=K'(\\theta(\\mu))$$\n",
    "and\n",
    "$$Var_{\\mu,\\sigma^{2}}(y)=\\sigma^{2}K''(\\theta(\\mu))\\equiv\\sigma^{2}V(\\mu)$$\n",
    "\n",
    "(see example sheet)\n",
    "\n",
    "The function $V(\\mu)$ is the **variance function**, and it turns\n",
    "out that an exponential dispersion family $K(t)=\\sum_{r=1}^{\\infty}\\kappa_{r}\\frac{t^{r}}{r!}$\n",
    "is completely characterized by $\\left(V(\\mu),\\mu,\\Phi\\right)$. We\n",
    "may therefore write $Y\\sim ED(\\mu,\\sigma^{2}V(\\mu))$, $\\mu\\in\\mathcal{M}$,\n",
    "$\\sigma^{2}\\in\\Phi$ to mean that $y$ is of exponential dispersion\n",
    "family form, with mean $\\mu$ and variance $\\sigma^{2}V(\\mu)$.\n",
    "\n",
    "Examples: $N(\\mu,\\sigma^{2})$, $Poi(\\mu)$, $\\frac{1}{n}Binomial(n,\\mu)$,\n",
    "$\\Gamma(\\upsilon,\\varphi)$\n",
    "\n",
    "A **generalized linear model** (GLM) is a model for independent\n",
    "responses $Y_{1},...,Y_{n}$ in which:\n",
    "\n",
    "i) $Y_{i}\\sim ED\\left(\\mu_{i},\\sigma_{i}^{2}V(\\mu_{i})\\right),$ $\\mu_{i}\\in\\mathcal{M}$,\n",
    "where $\\sigma_{i}^{2}=\\sigma^{2}a_{i}$, where $\\sigma^{2}$ is an\n",
    "unknown dispersion parameter and $a_{1},..,a_{n}$ are known constants.\n",
    "Thus each $Y_{i}$ comes from the same exponential dispersion family,\n",
    "and $\\mathbb{E}Y_{i}=\\mu_{i}$. When $Y_{i}\\sim\\frac{1}{n_{i}}Bin(n_{i},\\mu_{i})$,\n",
    "we have $\\sigma_{i}^{2}=\\frac{1}{n_{i}}$, so we can take $a_{i}=\\frac{1}{n_{i}}$,\n",
    "and $\\sigma^{2}=1$ (Challenger shuttle, tested the O-rings but at the wrong\n",
    "temperature, so $n$ has to depend on $i$)\n",
    "\n",
    "ii) The $i$-th component of the **linear predictor** $\\eta_{i}=x_{i}^{T}\\beta$\n",
    "and $\\mu_{i}$ are related through $g(\\mu_{i})=\\eta_{i},\\,i=1,...,n$,\n",
    "where $g$ is a strictly increasing twice differentiable function\n",
    "called the **link function**. Here, $x_{i}^{T}=\\left(x_{i1},...,x_{ip}\\right)$\n",
    "is a vector of known explanatory variables, and $\\beta=\\left(\\beta_{1},...,\\beta_{p}\\right)^{T}$\n",
    "is an unknown vector of regression coefficients. "
   ]
  },
  {
   "cell_type": "markdown",
   "metadata": {},
   "source": [
    "The choice $g(\\mu)=\\theta(\\mu)$ is called the\n",
    "**cannonical link function**, and it simplifieds the calculations\n",
    "in certain cases. For instance, if $Y=(Y_{1},..,Y_{n})^{T}$ is a\n",
    "vector of responses from a GLM, then its density is\n",
    "$$\n",
    "f_{y}(y;\\mu,\\sigma^{2})=\\left\\{ \\prod_{j=1}^{n}a(\\sigma^{2},\\,y_{j})\\right\\} \\exp\\left\\{ \\sum_{i=1}^{n}\\frac{\\theta(\\mu_{i})y_{i}}{\\sigma_{i}^{2}}-\\sum_{i=1}^{n}\\frac{K\\left(\\theta(\\mu_{i})\\right)}{\\sigma_{i}^{2}}\\right\\} \n",
    "$$\n",
    "\n",
    "where $\\mu_{i}=g^{-1}(x_{i}^{T}\\beta)$. Thus, in general, there is\n",
    "no reduction in dimensionality from sufficiency. However, for the\n",
    "cannonical link function, the density is\n",
    "$$\n",
    "f_{y}(y;\\beta,\\sigma^{2})=\\left\\{ \\prod_{i=1}^{n}a(\\sigma^{2},\\,y_{i})\\right\\} \\exp\\left\\{ \\beta^{T}\\sum_{i=1}^{n}\\frac{x_{i}y_{i}}{\\sigma_{i}^{2}}-\\sum_{i=1}^{n}\\frac{K\\left(x_{i}^{T}\\beta\\right)}{\\sigma_{i}^{2}}\\right\\} \n",
    "$$\n",
    "\n",
    "from which we see that the vector \n",
    "$$\n",
    "\\sum_{i=1}^{n}\\frac{x_{i}y_{i}}{a_{i}}=\\left(\\sum_{i=1}^{n}\\frac{x_{i1}y_{i}}{a_{i}},...,\\sum_{i=1}^{n}\\frac{x_{ip}y_{i}}{a_{i}}\\right)^{T}\n",
    "$$\n",
    "is sufficient for $\\beta$, for each fixed value of $\\sigma^{2}$. \n",
    "\n",
    "In general, there is no closed-form expression for the MLE $\\hat{\\beta}$,\n",
    "but we can use a Newton-Ralphson type algorithm (Fisher scoring is\n",
    "a slight variant) to find a sequence converging to $\\hat{\\beta}$.\n",
    "Moreover, under mild conditions on $X_{1},...,X_{n}$, we can apply\n",
    "the results of section 2.2 to deduce that $n^{1/2}(\\hat{\\beta}-\\beta)\\overset{d}{\\to}N_{p}\\left(0,\\,i^{(1)}(\\beta)^{-1}\\right)$.\n",
    "This result can be used to estimate the standard deviation of components\n",
    "of $\\hat{\\beta}$, or to test hypotheses about $\\beta$. \n",
    "\n",
    "Alternatively, tests can be based on the **deviance**, which is\n",
    "closely related to the likelihood ratio statistic."
   ]
  }
 ],
 "metadata": {
  "kernelspec": {
   "display_name": "Python 2",
   "language": "python",
   "name": "python2"
  },
  "language_info": {
   "codemirror_mode": {
    "name": "ipython",
    "version": 2
   },
   "file_extension": ".py",
   "mimetype": "text/x-python",
   "name": "python",
   "nbconvert_exporter": "python",
   "pygments_lexer": "ipython2",
   "version": "2.7.13"
  }
 },
 "nbformat": 4,
 "nbformat_minor": 0
}
