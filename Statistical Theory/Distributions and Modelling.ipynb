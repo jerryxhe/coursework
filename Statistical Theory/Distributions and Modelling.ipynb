{
 "cells": [
  {
   "cell_type": "markdown",
   "metadata": {},
   "source": [
    "## Truncated Normal Distribution\n",
    "If X is \\\\( N(\\mu,\\sigma^{2}) \\\\)  then let Y be a truncated normal \\\\( TN(\\mu,\\sigma^{2},a,b) \\\\)\n",
    "random variable. Then \n",
    "\n",
    "$$\n",
    "f_{Y}(y)=\\frac{\\frac{1}{\\sqrt{2\\pi\\sigma^{2}}}e^{\\left(-\\frac{\\left(y-\\mu\\right)^{2}}{2\\sigma^{2}}\\right)}}{\\Phi\\left(\\frac{b-\\mu}{\\sigma}\\right)-\\Phi\\left(\\frac{a-\\mu}{\\sigma}\\right)}I_{[a,b]}(y)\n",
    "$$"
   ]
  },
  {
   "cell_type": "markdown",
   "metadata": {},
   "source": [
    "## Lemma 4.5\n",
    "$$\n",
    "E(Y)=\\mu+\\left[\\frac{\\phi\\left(\\frac{b-\\mu}{\\sigma}\\right)-\\phi\\left(\\frac{a-\\mu}{\\sigma}\\right)}{\\Phi\\left(\\frac{b-\\mu}{\\sigma}\\right)-\\Phi\\left(\\frac{a-\\mu}{\\sigma}\\right)}\\right]\\sigma\n",
    "$$\n",
    "and \n",
    "$$\n",
    "Var(Y)=\\sigma^{2}\\left[1+\\frac{\\left(\\frac{a-\\mu}{\\sigma}\\right)\\phi\\left(\\frac{a-\\mu}{\\sigma}\\right)-\\left(\\frac{b-\\mu}{\\sigma}\\right)\\phi\\left(\\frac{b-\\mu}{\\sigma}\\right)}{\\Phi\\left(\\frac{b-\\mu}{\\sigma}\\right)-\\Phi\\left(\\frac{a-\\mu}{\\sigma}\\right)}\\right]-\\sigma^{2}\\left[\\frac{\\phi\\left(\\frac{b-\\mu}{\\sigma}\\right)-\\phi\\left(\\frac{a-\\mu}{\\sigma}\\right)}{\\Phi\\left(\\frac{b-\\mu}{\\sigma}\\right)-\\Phi\\left(\\frac{a-\\mu}{\\sigma}\\right)}\\right]^{2}\n",
    "$$"
   ]
  }
 ],
 "metadata": {
  "kernelspec": {
   "display_name": "Python 2",
   "language": "python",
   "name": "python2"
  },
  "language_info": {
   "codemirror_mode": {
    "name": "ipython",
    "version": 2
   },
   "file_extension": ".py",
   "mimetype": "text/x-python",
   "name": "python",
   "nbconvert_exporter": "python",
   "pygments_lexer": "ipython2",
   "version": "2.7.13"
  }
 },
 "nbformat": 4,
 "nbformat_minor": 2
}
