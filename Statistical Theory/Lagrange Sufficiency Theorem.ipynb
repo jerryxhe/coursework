{
 "cells": [
  {
   "cell_type": "markdown",
   "metadata": {},
   "source": [
    "## Lagrange Sufficiency Theorem"
   ]
  },
  {
   "cell_type": "markdown",
   "metadata": {},
   "source": [
    "The ** Lagrange Sufficiency Theorem ** is such a widely used concept that I think it deserves its own notebook to link to all the applications of it in regularization of linear and logistic regressions, as well as optimization."
   ]
  },
  {
   "cell_type": "markdown",
   "metadata": {},
   "source": [
    "###### Let P(b) denote the optimization problem\n",
    "\n",
    "$$\n",
    "\\min \\left\\{ f(x)\\vert h(x)=b,\\, x\\in X\\right\\} \n",
    "$$\n",
    " we will say $x$ is *feasible* if $x$ satisfies both $h(x)=b$\n",
    "and $x\\in X$.\n",
    "\n",
    "###### Let us define the **Lagrangian** as\n",
    "\n",
    "$$L(x,\\lambda)=f(x)-\\lambda^{T}(h(x)-b)$$\n",
    "\n",
    "note that if $\\bar{x}$ is feasible, then $L(\\bar{x},\\lambda)=f(\\bar{x})$"
   ]
  },
  {
   "cell_type": "markdown",
   "metadata": {},
   "source": [
    "#### Theorem: \n",
    "If $x^{\\star}$ is feasible\n",
    "and there exists $\\bar{\\lambda}$ such that $\\underset{x\\in X}{\\inf}L(x,\\bar{\\lambda})=f(x^{\\star})$,\n",
    "then $x^{\\star}$is optimal for P(b).   (*Lagrange sufficiency theorem*)\n",
    "\n",
    "#### Proof\n",
    "Note that $\\underset{\\bar{x}\\mathsf{\\, feasible}\\mbox{ }}{\\inf}f(\\bar{x})\\geq\\underset{x\\in X}{\\inf}L(x,\\lambda)\\,\\forall\\lambda$\n",
    "because the latter has more degree of freedom. If there exist $\\bar{\\lambda}$\n",
    "such that $\\underset{x\\in X}{\\inf}L(x,\\bar{\\lambda})=f(x^{\\star})$\n",
    "for a feasible $x^{\\star}$, then $\\underset{\\bar{x}\\mathsf{\\, feasible}}{\\inf}f(\\bar{x})\\geq\\underset{x\\in X}{\\inf}L(x,\\bar{\\lambda})=f(x^{\\star})$.\n",
    "But since $x^{\\star}$ is feasible, it must be one of the optimal\n",
    "solutions to P(b) "
   ]
  }
 ],
 "metadata": {
  "kernelspec": {
   "display_name": "Python 2",
   "language": "python",
   "name": "python2"
  },
  "language_info": {
   "codemirror_mode": {
    "name": "ipython",
    "version": 2
   },
   "file_extension": ".py",
   "mimetype": "text/x-python",
   "name": "python",
   "nbconvert_exporter": "python",
   "pygments_lexer": "ipython2",
   "version": "2.7.13"
  }
 },
 "nbformat": 4,
 "nbformat_minor": 0
}
