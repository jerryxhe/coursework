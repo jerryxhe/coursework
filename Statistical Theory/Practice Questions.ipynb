{
 "cells": [
  {
   "cell_type": "markdown",
   "metadata": {},
   "source": [
    "## Question\n",
    "[comment]: <> (@note exercise in symmetry)\n",
    "#### Sum of random variables\n",
    "\n",
    "Assume that $X_1$, $X_2$, ..., and $X_n$ are independent and identically-distributed (IID) random variables with uniform distribution between 0 and 1. What is the probability that \n",
    "$$ S_n =X_1+X_2 +... + X_n \\leq 1 ? $$ "
   ]
  }
 ],
 "metadata": {
  "kernelspec": {
   "display_name": "Python 2",
   "language": "python",
   "name": "python2"
  },
  "language_info": {
   "codemirror_mode": {
    "name": "ipython",
    "version": 2
   },
   "file_extension": ".py",
   "mimetype": "text/x-python",
   "name": "python",
   "nbconvert_exporter": "python",
   "pygments_lexer": "ipython2",
   "version": "2.7.13"
  }
 },
 "nbformat": 4,
 "nbformat_minor": 2
}
