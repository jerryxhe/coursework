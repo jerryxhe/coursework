{
 "cells": [
  {
   "cell_type": "markdown",
   "metadata": {},
   "source": [
    "## Ridge regression (Hoerl and Kennard, 1970)"
   ]
  },
  {
   "cell_type": "markdown",
   "metadata": {},
   "source": [
    "Consider the linear model with an intercept term $ Y=\\beta_{0}+X\\beta+\\epsilon$ .When some of the columns of X\n",
    "  are nearly collinear (as is likely when $p$\n",
    "  is nearly as large as n), the determinant of $X^{T}X $\n",
    " , which is the square of the volume of the parallelepiped whose edges are the columns of $X$\n",
    " , is nearly 0. Thus, since a determinant is the product of the eigenvalues, at least one of the eigenvalues of $ \\left(X^{T}X\\right)^{-1} $\n",
    " is very large. But  $$ \\hat{\\beta}\\sim N_{p}\\left(\\beta,\\,\\sigma^{2}\\left(X^{T}X\\right)^{-1}\\right) $$\n",
    " , at least when the columns of X\n",
    "  are orthogonal to (1,1,1,...,1,1)^{T}\n",
    " , and the sum of the eigenvalues is the trace, so at least one of the components of \\hat{\\beta}\n",
    "  has very large variance. We therefore seek to shrink \\hat{\\beta}\n",
    "  towards the origin. This will introduce a bias, but we hope it will be more than compensated by a reduction in variance. \n",
    "\n",
    "For fixed $\\lambda>0 $\n",
    " , the ridge regression estimator is  $$ \\hat{\\beta}_{\\lambda}^{R} $$\n",
    " , where $$ \\left(\\hat{\\beta}_{0},\\hat{\\beta}_{\\lambda}^{R}\\right) $$\n",
    "  minimise $$ Q_{2}(\\beta_{0},\\beta)=\\sum_{i=1}^{n}\\left(Y_{i}-\\beta_{0}-\\sum_{j=1}^{p}x_{ij}\\beta_{j}\\right)^{2}+\\lambda\\sum_{j=1}^{p}\\beta_{j}^{2} $$"
   ]
  }
 ],
 "metadata": {
  "kernelspec": {
   "display_name": "Python 2",
   "language": "python",
   "name": "python2"
  },
  "language_info": {
   "codemirror_mode": {
    "name": "ipython",
    "version": 2
   },
   "file_extension": ".py",
   "mimetype": "text/x-python",
   "name": "python",
   "nbconvert_exporter": "python",
   "pygments_lexer": "ipython2",
   "version": "2.7.13"
  }
 },
 "nbformat": 4,
 "nbformat_minor": 0
}
