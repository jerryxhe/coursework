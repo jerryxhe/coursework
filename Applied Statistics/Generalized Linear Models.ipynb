{
 "cells": [
  {
   "cell_type": "markdown",
   "metadata": {},
   "source": [
    "## Generalized Linear Models"
   ]
  },
  {
   "cell_type": "markdown",
   "metadata": {},
   "source": [
    "#### 8 Binomial Data"
   ]
  },
  {
   "cell_type": "markdown",
   "metadata": {},
   "source": [
    "$Y_{1},...,Y_{n}$ are indepdendent random variables $Y_{i}\\sim Bin(n_{i},p_{i})$\n",
    "$$\n",
    "g(p_{i})=\\beta^{T}x_{i}\n",
    "$$"
   ]
  },
  {
   "cell_type": "markdown",
   "metadata": {},
   "source": [
    "where $g$ is the canonical link $\\log\\left(\\frac{p_{i}}{1-p_{i}}\\right)=\\beta^{T}x_{i}$\n",
    ". ($\\mbox{logit}(p_{i})$ or log odds), which means that $p_{i}=p_{i}(\\beta)=\\frac{e^{\\beta^{T}x}}{1+e^{\\beta^{T}x_{i}}}$. \n",
    "\n",
    "likelihood=$\\prod_{i=1}^{n}\\left(\\begin{array}{c}\n",
    "n_{i}\\\\\n",
    "y_{i}\n",
    "\\end{array}\\right)p_{i}^{y_{i}}(1-p_{i})^{n-y_{i}}$\n",
    "\n",
    "So loglike=\n",
    "$$\n",
    "\\begin{eqnarray*}\n",
    "l(\\beta) & = & \\sum_{i=1}^{n}\\left(y_{i}\\log\\,p_{i}+(n_{i}-y_{i})\\log(1-p_{i})+\\log\\left(\\begin{array}{c}\n",
    "n_{i}\\\\\n",
    "y_{i}\n",
    "\\end{array}\\right)\\right)\\\\\n",
    " & = & \\sum_{i=1}^{n}\\left(y_{i}\\log\\left(\\frac{p_{i}}{1-p_{i}}\\right)+n_{i}\\log(1-p_{i})+\\log\\left(\\begin{array}{c}\n",
    "n_{i}\\\\\n",
    "y_{i}\n",
    "\\end{array}\\right)\\right)\\\\\n",
    " & = & \\beta^{T}\\left(\\sum_{i=1}^{n}y_{i}x_{i}\\right)-n_{i}\\log\\left(1+e^{\\beta^{T}x_{i}}\\right)+\\sum_{i=1}^{n}\\log\\left(\\begin{array}{c}\n",
    "n_{i}\\\\\n",
    "y_{i}\n",
    "\\end{array}\\right)\n",
    "\\end{eqnarray*}\n",
    "$$"
   ]
  },
  {
   "cell_type": "markdown",
   "metadata": {},
   "source": [
    "$$\n",
    "\\frac{\\partial l}{\\partial\\beta}=\\sum_{i=1}^{n}y_{i}x_{i}-\\sum_{i=1}^{n}n_{i}x_{i}\\frac{e^{\\beta^{T}x}}{1+e^{\\beta^{T}x}}\n",
    "$$\n",
    "So mle $\\hat{\\beta}$ solves $\\sum y_{i}x_{i}=\\sum n_{i}x_{i}\\frac{e^{\\beta^{T}x}}{1+e^{\\beta^{T}x}}$\n",
    "(Solve via iteration see H51)\n",
    "$$\n",
    "\\frac{\\partial^{2}l}{\\partial\\beta\\partial\\beta^{T}}=-\\sum_{i}n_{i}x_{i}x_{i}^{T}\\frac{e^{\\beta^{T}x_{i}}}{\\left(1+e^{\\beta^{T}x_{i}}\\right)^{2}}\n",
    "$$\n",
    " (check) Does not depend on $Y_{i}$'s So\n",
    "$$\n",
    "\\mathbb{E}\\left[-\\frac{\\partial^{2}l}{\\partial\\beta\\partial\\beta^{T}}\\right]=\\sum n_{i}x_{i}x_{i}^{T}p_{i}(1-p_{i})=V(\\beta)^{-1}\n",
    "$$\n",
    " say. Then, by general theory for mle's, we have\n",
    "\n",
    "$$\n",
    "\\hat{\\beta}\\sim N\\left(\\beta,\\,V(\\beta)\\right)\n",
    "$$"
   ]
  }
 ],
 "metadata": {
  "kernelspec": {
   "display_name": "Python 2",
   "language": "python",
   "name": "python2"
  },
  "language_info": {
   "codemirror_mode": {
    "name": "ipython",
    "version": 2
   },
   "file_extension": ".py",
   "mimetype": "text/x-python",
   "name": "python",
   "nbconvert_exporter": "python",
   "pygments_lexer": "ipython2",
   "version": "2.7.13"
  }
 },
 "nbformat": 4,
 "nbformat_minor": 0
}
