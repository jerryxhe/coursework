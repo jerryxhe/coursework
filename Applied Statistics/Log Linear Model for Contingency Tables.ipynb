{
 "cells": [
  {
   "cell_type": "markdown",
   "metadata": {},
   "source": [
    "An alternative model for the data in Table 5.1 is to treat the four counts as\n",
    "realizations of independent Poisson random variables. A possible physical\n",
    "model is to imagine that there are four groups of people, one for each cell in\n",
    "the table, and that members from each group arrive randomly at a hospital\n",
    "or medical center over a period of time, say for a health check. In this model\n",
    "the total sample size is not fixed in advance, and all counts are therefore\n",
    "random.\n",
    "\n",
    "Under the assumption that the observations are independent, the joint\n",
    "distribution of the four counts is a product of Poisson distributions"
   ]
  },
  {
   "cell_type": "markdown",
   "metadata": {},
   "source": [
    "$$ Pr \\{ Y=y \\} = \\prod_{i} \\prod_{j} \\frac{\\mu_{ij}^{y_ij} e^{-\\mu_{ij}}} {y_{ij} !} $$"
   ]
  }
 ],
 "metadata": {
  "kernelspec": {
   "display_name": "Python 3",
   "language": "python",
   "name": "python3"
  },
  "language_info": {
   "codemirror_mode": {
    "name": "ipython",
    "version": 3
   },
   "file_extension": ".py",
   "mimetype": "text/x-python",
   "name": "python",
   "nbconvert_exporter": "python",
   "pygments_lexer": "ipython3",
   "version": "3.6.0"
  }
 },
 "nbformat": 4,
 "nbformat_minor": 2
}
